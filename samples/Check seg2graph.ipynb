{
 "cells": [
  {
   "cell_type": "markdown",
   "id": "2d48e9bb-f945-4437-8f5f-ff12ae399098",
   "metadata": {},
   "source": [
    "#### import"
   ]
  },
  {
   "cell_type": "code",
   "execution_count": null,
   "id": "95bc5fbe-d7e7-487e-8f98-8f33954c4a58",
   "metadata": {},
   "outputs": [],
   "source": [
    "%load_ext autoreload\n",
    "%autoreload 2"
   ]
  },
  {
   "cell_type": "code",
   "execution_count": 2,
   "id": "f40bb533-aec3-47e4-be1c-51e707a54e20",
   "metadata": {},
   "outputs": [],
   "source": [
    "import cv2\n",
    "import numpy as np\n",
    "import os\n",
    "import skimage.morphology as skmorph"
   ]
  },
  {
   "cell_type": "code",
   "execution_count": 3,
   "id": "8208c59b-425b-4820-b0c4-c71061479cc1",
   "metadata": {
    "tags": []
   },
   "outputs": [],
   "source": [
    "from ipyprotopypes import ImageViewer\n",
    "viewer1 = ImageViewer()\n",
    "viewer2 = ImageViewer()"
   ]
  },
  {
   "cell_type": "markdown",
   "id": "11f40486-1180-4809-a0bb-11393b27ac3a",
   "metadata": {},
   "source": [
    "## Setup"
   ]
  },
  {
   "cell_type": "markdown",
   "id": "3d8fa835-9637-44a7-b9d8-96348a050590",
   "metadata": {},
   "source": [
    "#### Segmentation Model"
   ]
  },
  {
   "cell_type": "code",
   "execution_count": null,
   "id": "d42cd4cb-25b9-42f8-9d9e-4ca107b1dcf8",
   "metadata": {},
   "outputs": [
    {
     "name": "stdout",
     "output_type": "stream",
     "text": [
      "CfgDict[model]:\n",
      "type: smp\n",
      "architecture: Unet\n",
      "encoder_name: resnet34\n",
      "encoder_weights: imagenet\n",
      "n-scale: 3\n",
      "depth: 1\n",
      "n-features: 8\n",
      "norm: switchable\n",
      "\n",
      "Warning! Useless parameter \"n-scale\" for architecture Unet\n",
      "Warning! Useless parameter \"depth\" for architecture Unet\n",
      "Warning! Useless parameter \"n-features\" for architecture Unet\n",
      "Warning! Useless parameter \"norm\" for architecture Unet\n",
      "./artifacts/Baseline_Pretrained.models:v16/best-val-dice.ckpg\n"
     ]
    },
    {
     "name": "stderr",
     "output_type": "stream",
     "text": [
      "/home/gaby/.conda/envs/nnet/lib/python3.10/site-packages/pytorch_lightning/utilities/migration/utils.py:49: PossibleUserWarning: The loaded checkpoint was produced with Lightning v1.9.4, which is newer than your current Lightning version: v1.9.2\n",
      "  rank_zero_warn(\n"
     ]
    }
   ],
   "source": [
    "def load_model_from_wandb(artifact, source_exp=None, alias='latest'):\n",
    "    import wandb\n",
    "    import json\n",
    "    from nntemplate import Cfg, model\n",
    "    \n",
    "    if ':' not in artifact:\n",
    "        artifact = artifact + ':' + alias\n",
    "    \n",
    "    api = wandb.Api(timeout=19)\n",
    "    model_artifact = api.artifact(artifact)\n",
    "    run = model_artifact.logged_by()\n",
    "    cfg = json.loads(run.json_config)\n",
    "    cfg = Cfg.Dict.from_dict({k: v['value'] for k, v in cfg.items()})\n",
    "    if source_exp:\n",
    "        cfg = Cfg.parse(source_exp, override={k: cfg[k] for k in ('experiment', 'model', 'task')})[0]\n",
    "    else:\n",
    "        cfg.Parser.parse_registered_cfg(cfg, inplace=True)\n",
    "        \n",
    "    exp: ExperimentCfg = cfg.root()['experiment']\n",
    "    task_cfg: LightningTaskCfg = cfg.root()['task']\n",
    "    \n",
    "    print(cfg['model'])\n",
    "\n",
    "    model = cfg['model'].create()\n",
    "    task = task_cfg.create_task(model)\n",
    "    path = model_artifact.get_path(alias+'.ckpg').download()\n",
    "    print(path)\n",
    "    task.load_from_checkpoint(path,\n",
    "                              cfg=cfg['task'], model=model)\n",
    "    \n",
    "    return task\n",
    "    \n",
    "\n",
    "segmentation_model  = load_model_from_wandb(\"liv4d/Fundus Vessels Segmentation/Baseline_Pretrained.models\",\n",
    "                                 '/home/gaby/These/src/nn-template/experimentations/exp.yaml',\n",
    "                                  alias='best-val-dice').cuda().eval()\n",
    "\n",
    "def sup_multiple(n, m=32):\n",
    "    return m - (n-1)%m + n - 1\n",
    "\n",
    "def segment(x, threshold=0.5, model=segmentation_model):\n",
    "    import torch\n",
    "    from nntemplate.torch_utils import crop_pad\n",
    "    \n",
    "    final_shape = x.shape[:2]\n",
    "    padded_shape = tuple(sup_multiple(_, 32) for _ in final_shape)\n",
    "    \n",
    "    with torch.no_grad():\n",
    "        x = torch.from_numpy(x).permute(2,0,1).unsqueeze(0).float()\n",
    "        x = crop_pad(x, padded_shape).cuda()\n",
    "        y = model(x=x)\n",
    "        y = crop_pad(y, final_shape)\n",
    "        pred = y.squeeze(0)[1] >= threshold\n",
    "        return pred.cpu().numpy()\n"
   ]
  },
  {
   "cell_type": "code",
   "execution_count": 5,
   "id": "9329e2ff-02ad-4e95-825e-ce82252d909c",
   "metadata": {},
   "outputs": [],
   "source": [
    "import torch\n",
    "from collections import OrderedDict\n",
    "d = torch.load(\"./artifacts/Baseline_Pretrained.models:v16/best-val-dice.ckpg\", map_location='cpu')['state_dict']\n",
    "params = OrderedDict([(k.split('.',1)[1],v) for k, v in d.items()])\n",
    "torch.save(params, \"./artifacts/resnet34.pt\")"
   ]
  },
  {
   "cell_type": "code",
   "execution_count": 7,
   "id": "66805931-5a31-42cb-92bc-8093648b1fd7",
   "metadata": {},
   "outputs": [],
   "source": [
    "import segmentation_models_pytorch as smp\n",
    "model = smp.Unet('resnet34', classes=2, activation='sigmoid')\n",
    "model.load_state_dict(torch.load(\"./artifacts/resnet34.pt\"))\n",
    "model = model.eval().cuda()"
   ]
  },
  {
   "cell_type": "code",
   "execution_count": 18,
   "id": "f05bc71d-5ee8-4c90-96ae-b5f351c18bf1",
   "metadata": {},
   "outputs": [],
   "source": [
    "from fundus_vessels_toolkit.models import segment as fvt_segment"
   ]
  },
  {
   "cell_type": "markdown",
   "id": "3cd33d22-9404-428c-a5e0-238f4e330c32",
   "metadata": {},
   "source": [
    "#### Image"
   ]
  },
  {
   "cell_type": "code",
   "execution_count": 8,
   "id": "65c9e1ab-bd29-40ee-8f28-6be5c85916c1",
   "metadata": {},
   "outputs": [],
   "source": [
    "def load_img(path, binarize=False):\n",
    "    img = cv2.imread(path)\n",
    "    img = img.astype(float)/255\n",
    "    return img.mean(axis=2)>.5 if binarize else img\n",
    "\n",
    "def inplace_post_process(*vessel_maps):\n",
    "    for v in vessel_maps:\n",
    "        skmorph.remove_small_holes(v, 5, 2, out=v)\n",
    "        skmorph.opening(v, np.ones((3,3)), out=v)\n",
    "    return vessel_maps"
   ]
  },
  {
   "cell_type": "code",
   "execution_count": 36,
   "id": "23367733-b04d-44ed-bbfc-f4a8b6630a96",
   "metadata": {},
   "outputs": [
    {
     "name": "stdout",
     "output_type": "stream",
     "text": [
      "READING: \n",
      "raw:  /home/gaby/These/Data/Fundus/Vessels/HRF/downsampled-1024/1-images/09_dr.jpg\n",
      "vessels:  /home/gaby/These/Data/Fundus/Vessels/HRF/downsampled-1024/2-vessels/09_dr.png\n",
      "mask:  /home/gaby/These/Data/Fundus/Vessels/HRF/downsampled-1024/mask/09_dr.png\n"
     ]
    }
   ],
   "source": [
    "ID = 30\n",
    "RAW_PATH = \"/home/gaby/These/Data/Fundus/Vessels/HRF/downsampled-1024/1-images/\"\n",
    "VESSELS_PATH = \"/home/gaby/These/Data/Fundus/Vessels/HRF/downsampled-1024/2-vessels/\"\n",
    "MASK_PATH = \"/home/gaby/These/Data/Fundus/Vessels/HRF/downsampled-1024/mask/\"\n",
    "\n",
    "raw_filename = os.listdir(RAW_PATH)[ID]\n",
    "print('READING: ')\n",
    "\n",
    "raw_filename, suffix = raw_filename.rsplit('.', 1)\n",
    "vessel_filename = next(f for f in os.listdir(VESSELS_PATH) if f.startswith(raw_filename))\n",
    "mask_filename = next((f for f in os.listdir(MASK_PATH) if f.startswith(raw_filename)), None)\n",
    "\n",
    "raw = load_img(RAW_PATH+raw_filename+'.'+suffix)\n",
    "vessels_true = load_img(VESSELS_PATH+vessel_filename, binarize=True)\n",
    "mask = None if mask_filename is None else load_img(MASK_PATH+mask_filename, binarize=True)\n",
    "\n",
    "seg2graph = RetinalVesselSeg2Graph(raw.shape[0]//100)\n",
    "\n",
    "print('raw: ', RAW_PATH+raw_filename+'.jpg')\n",
    "print('vessels: ', VESSELS_PATH+vessel_filename)\n",
    "print('mask: ', MASK_PATH+mask_filename if mask_filename is not None else None)\n",
    "\n",
    "\n",
    "vessels = segment(raw)\n",
    "vessels2 = segment(raw, model=model)\n",
    "if mask is not None:\n",
    "    vessels *= mask\n",
    "    vessels_true *= mask\n",
    "    vessels2 *= mask\n",
    "#inplace_post_process(vessels_true, vessels)\n"
   ]
  },
  {
   "cell_type": "code",
   "execution_count": 29,
   "id": "892217e2-7088-4d56-bf0b-480c1e9037f1",
   "metadata": {},
   "outputs": [
    {
     "name": "stderr",
     "output_type": "stream",
     "text": [
      "/home/gaby/These/src/Fundus/fundus-vessels-toolbox/lib/fundus_vessels_toolkit/models/segmentation.py:31: UserWarning: Image size torch.Size([1024, 1024]) is not optimal for resnet34.\n",
      "Consider resizing the image to a size close to 1024x1024.\n",
      "  final_shape = x.shape\n"
     ]
    }
   ],
   "source": [
    "vessels3 = fvt_segment(raw)"
   ]
  },
  {
   "cell_type": "code",
   "execution_count": 26,
   "id": "4b9dd934-4f33-4b73-899a-5b9bad2ae5f3",
   "metadata": {},
   "outputs": [],
   "source": [
    "vessels3 *= mask"
   ]
  },
  {
   "cell_type": "markdown",
   "id": "7b49b021-7e33-4f6a-81c4-52b7c6053696",
   "metadata": {
    "tags": []
   },
   "source": [
    "#### Displays"
   ]
  },
  {
   "cell_type": "code",
   "execution_count": 32,
   "id": "4f799e41-2b1d-4ce9-8fce-b26d79176848",
   "metadata": {
    "tags": []
   },
   "outputs": [],
   "source": [
    "def display(vessels, skel, skel_dist=None, view=viewer1):\n",
    "    bin_skel = skel>0\n",
    "    raw_display = raw.copy()\n",
    "    raw_display += np.expand_dims(vessels*.07, 2)\n",
    "    if skel_dist is None:\n",
    "        raw_display[bin_skel] = np.ones((3)) * .5\n",
    "    else:\n",
    "        raw_display[bin_skel] = np.expand_dims(skel_dist[bin_skel]/skel_dist.max(), 1)\n",
    "    raw_display[skel==3] = [1,1,0]\n",
    "    raw_display[skel==4] = [0,1,1]\n",
    "    raw_display[skel==1] = [0,0,1]\n",
    "    #raw_display[skel==2] = [1,1,1]\n",
    "    #raw_display[skel==3] = [0,0,0]\n",
    "    view.image = raw_display.transpose((2,0,1))\n",
    "    \n",
    "def display_label(vessels, label, jonctions=None, label_jonctions=True, label_branch=True, view=viewer1):\n",
    "    import colorsys\n",
    "    import cv2\n",
    "    \n",
    "    bin_skel = skel>0\n",
    "    raw_display = raw.copy()\n",
    "    raw_display += np.expand_dims(vessels*.07, 2)\n",
    "    \n",
    "    bin_label = np.tile(np.expand_dims(label!=0, 2), (1,1,3))\n",
    "    colors = np.asarray([colorsys.hsv_to_rgb(h, s, v) for h in np.linspace(0,1,28) for s in [.85, 1] for v in [ 1, .85]])\n",
    "    colors = colors.reshape((7,-1,3)).transpose((1,0,2)).reshape((-1,3))\n",
    "    for i, c in enumerate(colors):\n",
    "        raw_display[(label!=0) & (label%len(colors)==i)] = c\n",
    "    if label_branch:\n",
    "        for i in range(1, label.max()+1):\n",
    "            y, x = np.where(label==i)\n",
    "            if len(y):\n",
    "                y = int(np.mean(y)+10)\n",
    "                x = int(np.mean(x)+10)\n",
    "                color = colors[i%len(colors)]\n",
    "                raw_display = cv2.putText(raw_display, str(i-1), (x, y), cv2.FONT_HERSHEY_PLAIN, .6, color)\n",
    "            else:\n",
    "                print(f'Branch {i-1} was not found')\n",
    "            \n",
    "    if jonctions is not None:\n",
    "        jy, jx = np.round(jonctions).astype(np.int64)\n",
    "        raw_display[jy, jx] = [1,1,1]\n",
    "        if label_jonctions:\n",
    "            for i, (y,x) in enumerate(zip(jy, jx)):\n",
    "                raw_display = cv2.putText(raw_display, f\":{i}\", (x+3, y+3), cv2.FONT_HERSHEY_PLAIN, .6, (.6, .6, .6)) \n",
    "    view.image = raw_display.transpose((2,0,1))"
   ]
  },
  {
   "cell_type": "code",
   "execution_count": 27,
   "id": "2f2ae199-690b-4b6c-a07d-5c838991a54b",
   "metadata": {
    "tags": []
   },
   "outputs": [
    {
     "data": {
      "application/vnd.jupyter.widget-view+json": {
       "model_id": "5048c839921946e69b1783faee4df307",
       "version_major": 2,
       "version_minor": 0
      },
      "text/plain": [
       "ImageViewer()"
      ]
     },
     "execution_count": 27,
     "metadata": {},
     "output_type": "execute_result"
    }
   ],
   "source": [
    "raw_display = raw.copy()\n",
    "raw_display += np.expand_dims(vessels3*.07, 2)\n",
    "viewer1.image = raw_display.transpose((2,0,1))\n",
    "viewer1"
   ]
  },
  {
   "cell_type": "code",
   "execution_count": 12,
   "id": "b1f7536f-8b46-43c3-92db-562085a28cea",
   "metadata": {
    "tags": []
   },
   "outputs": [
    {
     "data": {
      "application/vnd.jupyter.widget-view+json": {
       "model_id": "ba48d5dbf01c4d34b1cf883c00a58d48",
       "version_major": 2,
       "version_minor": 0
      },
      "text/plain": [
       "ImageViewer()"
      ]
     },
     "execution_count": 12,
     "metadata": {},
     "output_type": "execute_result"
    }
   ],
   "source": [
    "raw_display = raw.copy()\n",
    "raw_display += np.expand_dims(vessels2*.07, 2)\n",
    "viewer2.image = raw_display.transpose((2,0,1))\n",
    "viewer2"
   ]
  },
  {
   "cell_type": "markdown",
   "id": "8a57fa55-94b7-4d7d-be79-7b5ea76bb802",
   "metadata": {},
   "source": [
    "### Skeletonize and graph"
   ]
  },
  {
   "cell_type": "code",
   "execution_count": 34,
   "id": "124c6255-ed56-4552-b84b-dcfd2b50b5e0",
   "metadata": {
    "tags": []
   },
   "outputs": [],
   "source": [
    "skel = seg2graph.skeletonize(vessels)\n",
    "display(vessels, skel, view=viewer1)\n",
    "skel = seg2graph.skeletonize(vessels_true)\n",
    "display(vessels_true, skel, view=viewer2)"
   ]
  },
  {
   "cell_type": "code",
   "execution_count": null,
   "id": "3739beb1-46d3-4a85-a85e-6f1d6965d20c",
   "metadata": {
    "tags": []
   },
   "outputs": [],
   "source": [
    "seg2graph = RetinalVesselSeg2Graph(raw.shape[0]//80)\n",
    "conn1, branch_labels, node_yx1 = seg2graph.seg2adjacency(vessels, return_label=True)\n",
    "graph1 = branches_by_nodes_to_node_graph(conn1, node_yx1)\n",
    "display_label(vessels, branch_labels, node_yx1, view=viewer1)\n",
    "\n",
    "conn2, branch_labels, node_yx2 = seg2graph.seg2adjacency(vessels_true, return_label=True)\n",
    "graph2 = branches_by_nodes_to_node_graph(conn2, node_yx2)\n",
    "display_label(vessels_true, branch_labels, node_yx2, view=viewer2)"
   ]
  },
  {
   "cell_type": "code",
   "execution_count": null,
   "id": "2e485e9e-acc4-4d56-a58c-73c6347ba43e",
   "metadata": {},
   "outputs": [],
   "source": [
    "print(f'Empty nodes: {[i for i, n in enumerate(conn1.T) if n.sum()==0]}')\n",
    "print(f'Irregular branches: {[i for i, b in enumerate(conn1) if b.sum()!=2]}')\n",
    "if len(node_yx[0]) != conn.shape[1]:\n",
    "    print(f\"Invalid number of nodes coordindates: {len(node_yx[0])} instead of {conn.shape[1]}.\")\n",
    "if np.max(branch_labels) != conn.shape[0]:\n",
    "    print(f\"Invalid number of branch labels: {np.max(branch_labels)} instead of {conn.shape[0]}.\")"
   ]
  },
  {
   "cell_type": "code",
   "execution_count": null,
   "id": "bb18595b-8d2f-4c6e-ae5f-cf1af5695df9",
   "metadata": {
    "tags": []
   },
   "outputs": [],
   "source": [
    "graph = branches_by_nodes_to_node_graph(conn1, node_yx1)\n",
    "edges = {}\n",
    "branches = set()\n",
    "for edge in graph.edges():\n",
    "    e = graph.edges[edge]\n",
    "    edges[f\"Branch {e['branch']:03}\"] = f\"n{edge[0]}-{edge[1]}\"\n",
    "    branches |= {e['branch']}\n",
    "    \n",
    "for b in sorted(edges.keys()):\n",
    "      print(b, edges[b])"
   ]
  },
  {
   "cell_type": "code",
   "execution_count": null,
   "id": "2aad2ab3-b68c-4a16-b2fd-67850317995f",
   "metadata": {},
   "outputs": [],
   "source": [
    "for i, b in enumerate(conn.T):\n",
    "    print(f'Node {i} ({node_yx[0][i]:.0f}, {node_yx[1][i]:.0f}): ', np.where(b)[0])"
   ]
  },
  {
   "cell_type": "code",
   "execution_count": null,
   "id": "81bac7a7-20e6-4a00-908f-2e814849eb2c",
   "metadata": {
    "tags": []
   },
   "outputs": [],
   "source": [
    "for i, b in enumerate(conn):\n",
    "    print(f'Branch {i}: ', np.where(b)[0])"
   ]
  },
  {
   "cell_type": "code",
   "execution_count": null,
   "id": "7fe828bc-9f1a-4f75-8318-f2ac484e933d",
   "metadata": {
    "tags": []
   },
   "outputs": [],
   "source": [
    "conn.sum(axis=1).astype(int)"
   ]
  },
  {
   "cell_type": "code",
   "execution_count": null,
   "id": "edba6f14-5b23-4b03-ab4f-0e24ffe46147",
   "metadata": {
    "tags": []
   },
   "outputs": [],
   "source": [
    "np.sum(conn.sum(axis=1)>2)"
   ]
  },
  {
   "cell_type": "code",
   "execution_count": null,
   "id": "44f7a367-0614-44d5-97d6-e46199937475",
   "metadata": {
    "tags": []
   },
   "outputs": [],
   "source": [
    "conn.sum(axis=1).shape"
   ]
  },
  {
   "cell_type": "markdown",
   "id": "9e05febc-7db0-4447-bb4c-9efb44f83971",
   "metadata": {},
   "source": [
    "# Euclidian Minimal Matching"
   ]
  },
  {
   "cell_type": "code",
   "execution_count": null,
   "id": "c29fa8b9-10eb-4dd0-bbef-435c2e8224a1",
   "metadata": {},
   "outputs": [],
   "source": [
    "from pygmtools.linear_solvers import hungarian\n",
    "\n",
    "MAX_PAIRING_DISTANCE = 18\n"
   ]
  },
  {
   "cell_type": "code",
   "execution_count": null,
   "id": "a472793f-2331-4789-a490-1274021ff115",
   "metadata": {},
   "outputs": [],
   "source": [
    "yx1 = np.stack(node_yx1, axis=1)\n",
    "yx2 = np.stack(node_yx2, axis=1)\n",
    "N1 = len(yx1)\n",
    "N2 = len(yx2)\n",
    "\n",
    "euclidian_distance = np.linalg.norm(yx1[:, None]-yx2[None, :], axis=2)\n",
    "weight = 1/(1e-8+euclidian_distance)\n",
    "min_weight = .5/(1e-8+MAX_PAIRING_DISTANCE)\n",
    "matched_nodes = hungarian(weight[None, ...], [N1], [N2], np.repeat([[min_weight]], N1, axis=1), np.repeat([[min_weight]], N2, axis=1))"
   ]
  },
  {
   "cell_type": "code",
   "execution_count": null,
   "id": "7db0b892-7749-4c98-88b5-7b1a4b75a735",
   "metadata": {},
   "outputs": [],
   "source": [
    "_, dim1, dim2 = np.where(matched_nodes)\n",
    "import matplotlib.pyplot as plt\n",
    "print(euclidian_distance[dim1, dim2].max())\n",
    "plt.hist(euclidian_distance[dim1, dim2])"
   ]
  },
  {
   "cell_type": "code",
   "execution_count": null,
   "id": "f3eb36b8-63f7-4f8d-9ead-7c6545363e3b",
   "metadata": {},
   "outputs": [],
   "source": [
    "matched_nodes.shape"
   ]
  },
  {
   "cell_type": "code",
   "execution_count": null,
   "id": "5040fc6f-1623-4895-84bc-fe51e7f22ec8",
   "metadata": {
    "tags": []
   },
   "outputs": [],
   "source": [
    "for n1, n2, w in zip(nodes1, nodes2, near_nodes_weight):\n",
    "    print(n1, n2, f\"{w:.8}\")"
   ]
  },
  {
   "cell_type": "code",
   "execution_count": null,
   "id": "d7bc0de1-c101-4581-9e2a-ebd0d8c3ac85",
   "metadata": {
    "tags": []
   },
   "outputs": [],
   "source": [
    "p = maximum_bipartite_matching(graph, 'column')\n",
    "print('Matched node: ', np.sum(p!=-1), ' / ', len(p))\n",
    "for p2, p1 in enumerate(p):\n",
    "    print(p2, '->', p1)"
   ]
  },
  {
   "cell_type": "code",
   "execution_count": null,
   "id": "712f0ba5-0c03-4f01-a851-14de65abe1e4",
   "metadata": {
    "tags": []
   },
   "outputs": [],
   "source": [
    "p = maximum_bipartite_matching(graph)\n",
    "print('Matched node: ', np.sum(p!=-1), ' / ', len(p))\n",
    "for p2, p1 in enumerate(p):\n",
    "    print(p2, '->', p1)"
   ]
  },
  {
   "cell_type": "code",
   "execution_count": null,
   "id": "9ee20e7f-825a-471c-8a64-80c2da7fbc81",
   "metadata": {},
   "outputs": [],
   "source": [
    "N = n1+n2\n",
    "B = nx.Graph()\n",
    "B.add_nodes_from(np.arange(N), bipartite=0)\n",
    "B.add_nodes_from(np.arange(N, 2*N), bipartite=1)\n",
    "for n1, n2, w in zip(nodes1, nodes2, near_nodes_weight):\n",
    "    B.add_weighted_edges_from([(n1, N+n2, w), (N+n2, n1, w)])\n",
    "for n1 in nodes1:\n",
    "    B.add_weighted_edges_from([(node1, N+N2+node1, min_weight), (N+N2+node1, node1, min_weight)]+)\n",
    "for n2 in nodes2:\n",
    "    B.add_weighted_edges_from([(node1, N+N2+node1, min_weight), (N+N2+node1, node1, min_weight)])\n",
    "    "
   ]
  },
  {
   "cell_type": "code",
   "execution_count": null,
   "id": "95ef7481-f7a0-44c1-a3bb-457adb336995",
   "metadata": {},
   "outputs": [],
   "source": []
  },
  {
   "cell_type": "code",
   "execution_count": null,
   "id": "c4d895e6-fd56-43cd-a491-c08fe77428c3",
   "metadata": {},
   "outputs": [],
   "source": [
    "nx.bipartite.maximum_matching(B)"
   ]
  }
 ],
 "metadata": {
  "kernelspec": {
   "display_name": "Python 3 (ipykernel)",
   "language": "python",
   "name": "python3"
  },
  "language_info": {
   "codemirror_mode": {
    "name": "ipython",
    "version": 3
   },
   "file_extension": ".py",
   "mimetype": "text/x-python",
   "name": "python",
   "nbconvert_exporter": "python",
   "pygments_lexer": "ipython3",
   "version": "3.10.6"
  }
 },
 "nbformat": 4,
 "nbformat_minor": 5
}
