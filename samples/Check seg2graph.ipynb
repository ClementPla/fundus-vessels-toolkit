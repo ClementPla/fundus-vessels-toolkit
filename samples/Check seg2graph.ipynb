{
 "cells": [
  {
   "cell_type": "code",
   "execution_count": 1,
   "id": "95bc5fbe-d7e7-487e-8f98-8f33954c4a58",
   "metadata": {},
   "outputs": [],
   "source": [
    "%load_ext autoreload\n",
    "%autoreload 2"
   ]
  },
  {
   "cell_type": "code",
   "execution_count": 2,
   "id": "f40bb533-aec3-47e4-be1c-51e707a54e20",
   "metadata": {},
   "outputs": [],
   "source": [
    "from fundus_vessels_toolkit import seg2graph, skeletonize\n",
    "import cv2\n",
    "import numpy as np"
   ]
  },
  {
   "cell_type": "code",
   "execution_count": 7,
   "id": "8208c59b-425b-4820-b0c4-c71061479cc1",
   "metadata": {
    "tags": []
   },
   "outputs": [
    {
     "data": {
      "application/vnd.jupyter.widget-view+json": {
       "model_id": "0107110e158e4483b4a2db2fbc3444b6",
       "version_major": 2,
       "version_minor": 0
      },
      "text/plain": [
       "View2D()"
      ]
     },
     "execution_count": 7,
     "metadata": {},
     "output_type": "execute_result"
    }
   ],
   "source": [
    "import jupyter_protopype as jpp\n",
    "viewer = jpp.View2D()\n",
    "viewer"
   ]
  },
  {
   "cell_type": "code",
   "execution_count": 5,
   "id": "23367733-b04d-44ed-bbfc-f4a8b6630a96",
   "metadata": {},
   "outputs": [],
   "source": [
    "PATH = \"15_dr\"\n",
    "raw = cv2.imread(\"/home/gaby/These/Data/Fundus/Vessels/HRF/0-images/\"+PATH+\".JPG\")\n",
    "vessels = cv2.imread(\"/home/gaby/These/Data/Fundus/Vessels/HRF/2-vessels/\"+PATH+\".tif\")\n",
    "\n",
    "def to_float(img):\n",
    "    return img.astype(float)/255\n",
    "\n",
    "raw = to_float(raw)\n",
    "vessels = to_float(vessels).mean(axis=2) > .5\n",
    "viewer.image = raw + np.expand_dims(vessels, 2)*.2\n"
   ]
  },
  {
   "cell_type": "code",
   "execution_count": null,
   "id": "4f799e41-2b1d-4ce9-8fce-b26d79176848",
   "metadata": {
    "tags": []
   },
   "outputs": [],
   "source": [
    "def display(skel, skel_dist=None):\n",
    "    bin_skel = skel>0\n",
    "    raw_display = raw.copy()\n",
    "    raw_display += np.expand_dims(vessels*.07, 2)\n",
    "    if skel_dist is None:\n",
    "        raw_display[bin_skel] = np.ones((3)) * .5\n",
    "    else:\n",
    "        raw_display[bin_skel] = np.expand_dims(skel_dist[bin_skel]/skel_dist.max(), 1)\n",
    "    raw_display[skel==3] = [1,1,0]\n",
    "    raw_display[skel==4] = [0,1,1]\n",
    "    raw_display[skel==1] = [0,0,1]\n",
    "    #raw_display[skel==2] = [1,1,1]\n",
    "    #raw_display[skel==3] = [0,0,0]\n",
    "    viewer.image = raw_display\n",
    "    \n",
    "def display_label(label, jonctions=None):\n",
    "    import colorsys\n",
    "    \n",
    "    bin_skel = skel>0\n",
    "    raw_display = raw.copy()\n",
    "    raw_display += np.expand_dims(vessels*.07, 2)\n",
    "    \n",
    "    bin_label = np.tile(np.expand_dims(label!=0, 2), (1,1,3))\n",
    "    colors = np.asarray([colorsys.hsv_to_rgb(h, 0.7,0.7) for h in np.linspace(0,1,30)])\n",
    "    for i, c in enumerate(colors):\n",
    "        raw_display[(label!=0) & (label%len(colors)==i)] = c\n",
    "    if jonctions is not None:\n",
    "        raw_display[jonctions] = [1,1,1]\n",
    "    viewer.image = raw_display\n",
    "viewer"
   ]
  },
  {
   "cell_type": "code",
   "execution_count": null,
   "id": "124c6255-ed56-4552-b84b-dcfd2b50b5e0",
   "metadata": {
    "tags": []
   },
   "outputs": [],
   "source": [
    "skel = skeletonize(vessels, return_distance=False, remove_small_ends=10)\n",
    "display(skel)"
   ]
  },
  {
   "cell_type": "code",
   "execution_count": null,
   "id": "50ab75d7-c777-4816-8fc5-7b725e5a3d18",
   "metadata": {
    "jupyter": {
     "source_hidden": true
    },
    "tags": []
   },
   "outputs": [],
   "source": [
    "conn, branches, jonctions = seg2graph.extract_graph(skel_clean,return_label=True)\n",
    "display_label(branches, jonctions)\n",
    "conn.sum(axis=1)\n"
   ]
  },
  {
   "cell_type": "code",
   "execution_count": null,
   "id": "3739beb1-46d3-4a85-a85e-6f1d6965d20c",
   "metadata": {
    "tags": []
   },
   "outputs": [],
   "source": [
    "conn, branch_labels, idx = seg2graph.extract_graph(skel, return_label=True)\n",
    "display_label(branch_labels, idx)"
   ]
  },
  {
   "cell_type": "code",
   "execution_count": null,
   "id": "81bac7a7-20e6-4a00-908f-2e814849eb2c",
   "metadata": {
    "tags": []
   },
   "outputs": [],
   "source": [
    "conn.sum(axis=0).astype(int)"
   ]
  },
  {
   "cell_type": "code",
   "execution_count": null,
   "id": "7fe828bc-9f1a-4f75-8318-f2ac484e933d",
   "metadata": {
    "tags": []
   },
   "outputs": [],
   "source": [
    "conn.sum(axis=1).astype(int)"
   ]
  },
  {
   "cell_type": "code",
   "execution_count": null,
   "id": "edba6f14-5b23-4b03-ab4f-0e24ffe46147",
   "metadata": {
    "tags": []
   },
   "outputs": [],
   "source": [
    "np.sum(conn.sum(axis=1)>2)"
   ]
  },
  {
   "cell_type": "code",
   "execution_count": null,
   "id": "44f7a367-0614-44d5-97d6-e46199937475",
   "metadata": {
    "tags": []
   },
   "outputs": [],
   "source": [
    "conn.sum(axis=1).shape"
   ]
  }
 ],
 "metadata": {
  "kernelspec": {
   "display_name": "Python 3 (ipykernel)",
   "language": "python",
   "name": "python3"
  },
  "language_info": {
   "codemirror_mode": {
    "name": "ipython",
    "version": 3
   },
   "file_extension": ".py",
   "mimetype": "text/x-python",
   "name": "python",
   "nbconvert_exporter": "python",
   "pygments_lexer": "ipython3",
   "version": "3.10.9"
  }
 },
 "nbformat": 4,
 "nbformat_minor": 5
}
