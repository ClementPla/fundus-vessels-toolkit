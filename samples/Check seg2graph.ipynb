{
 "cells": [
  {
   "cell_type": "code",
   "execution_count": 1,
   "id": "95bc5fbe-d7e7-487e-8f98-8f33954c4a58",
   "metadata": {},
   "outputs": [],
   "source": [
    "%load_ext autoreload\n",
    "%autoreload 2"
   ]
  },
  {
   "cell_type": "code",
   "execution_count": 2,
   "id": "f40bb533-aec3-47e4-be1c-51e707a54e20",
   "metadata": {},
   "outputs": [],
   "source": [
    "from fundus_vessels_toolkit.seg2graph import RetinalVesselSeg2Graph, branches_by_nodes_to_node_graph\n",
    "import cv2\n",
    "import numpy as np\n",
    "import os\n",
    "import skimage.morphology as skmorph"
   ]
  },
  {
   "cell_type": "code",
   "execution_count": 3,
   "id": "8208c59b-425b-4820-b0c4-c71061479cc1",
   "metadata": {
    "tags": []
   },
   "outputs": [],
   "source": [
    "from ipyprotopypes import ImageViewer\n",
    "viewer = ImageViewer()"
   ]
  },
  {
   "cell_type": "code",
   "execution_count": null,
   "id": "d42cd4cb-25b9-42f8-9d9e-4ca107b1dcf8",
   "metadata": {},
   "outputs": [],
   "source": []
  },
  {
   "cell_type": "code",
   "execution_count": 4,
   "id": "23367733-b04d-44ed-bbfc-f4a8b6630a96",
   "metadata": {},
   "outputs": [
    {
     "name": "stdout",
     "output_type": "stream",
     "text": [
      "163_D.png\n",
      "raw:  /home/gaby/These/Data/Fundus/Vessels/FIVES/train/Original/1-images/163_D.jpg\n",
      "vessels:  /home/gaby/These/Data/Fundus/Vessels/FIVES/train/Original/2-vessels/163_D.png\n"
     ]
    }
   ],
   "source": [
    "ID = 10\n",
    "RAW_PATH = \"/home/gaby/These/Data/Fundus/Vessels/FIVES/train/Original/1-images/\"\n",
    "VESSELS_PATH = \"/home/gaby/These/Data/Fundus/Vessels/FIVES/train/Original/2-vessels/\"\n",
    "ID = os.listdir(RAW_PATH)[ID]\n",
    "print(ID)\n",
    "ID, suffix = ID.rsplit('.', 1)\n",
    "\n",
    "raw = cv2.imread(RAW_PATH+ID+'.'+suffix)\n",
    "vessels = cv2.imread(VESSELS_PATH+ID+'.png')\n",
    "\n",
    "seg2graph = RetinalVesselSeg2Graph(raw.shape[0]//100)\n",
    "\n",
    "print('raw: ', RAW_PATH+ID+'.jpg')\n",
    "print('vessels: ', VESSELS_PATH+ID+'.png')\n",
    "\n",
    "def to_float(img):\n",
    "    return img.astype(float)/255\n",
    "\n",
    "raw = to_float(raw)\n",
    "vessels = to_float(vessels).mean(axis=2) > .5\n",
    "skmorph.remove_small_holes(vessels, 5, 2, out=vessels)\n",
    "skmorph.opening(vessels, np.ones((3,3)), out=vessels)\n",
    "viewer.image = raw.transpose((2,0,1))\n"
   ]
  },
  {
   "cell_type": "code",
   "execution_count": 5,
   "id": "4f799e41-2b1d-4ce9-8fce-b26d79176848",
   "metadata": {
    "tags": []
   },
   "outputs": [
    {
     "data": {
      "application/vnd.jupyter.widget-view+json": {
       "model_id": "c549e71493f744b4a67c698deac24c2b",
       "version_major": 2,
       "version_minor": 0
      },
      "text/plain": [
       "ImageViewer()"
      ]
     },
     "execution_count": 5,
     "metadata": {},
     "output_type": "execute_result"
    }
   ],
   "source": [
    "def display(skel, skel_dist=None):\n",
    "    bin_skel = skel>0\n",
    "    raw_display = raw.copy()\n",
    "    raw_display += np.expand_dims(vessels*.07, 2)\n",
    "    if skel_dist is None:\n",
    "        raw_display[bin_skel] = np.ones((3)) * .5\n",
    "    else:\n",
    "        raw_display[bin_skel] = np.expand_dims(skel_dist[bin_skel]/skel_dist.max(), 1)\n",
    "    raw_display[skel==3] = [1,1,0]\n",
    "    raw_display[skel==4] = [0,1,1]\n",
    "    raw_display[skel==1] = [0,0,1]\n",
    "    #raw_display[skel==2] = [1,1,1]\n",
    "    #raw_display[skel==3] = [0,0,0]\n",
    "    viewer.image = raw_display.transpose((2,0,1))\n",
    "    \n",
    "def display_label(label, jonctions=None, label_jonctions=True, label_branch=True):\n",
    "    import colorsys\n",
    "    import cv2\n",
    "    \n",
    "    bin_skel = skel>0\n",
    "    raw_display = raw.copy()\n",
    "    raw_display += np.expand_dims(vessels*.07, 2)\n",
    "    \n",
    "    bin_label = np.tile(np.expand_dims(label!=0, 2), (1,1,3))\n",
    "    colors = np.asarray([colorsys.hsv_to_rgb(h, s, v) for h in np.linspace(0,1,28) for s in [.7, 1] for v in [.5, 1, .7]])\n",
    "    colors = colors.reshape((7,-1,3)).transpose((1,0,2)).reshape((-1,3))\n",
    "    for i, c in enumerate(colors):\n",
    "        raw_display[(label!=0) & (label%len(colors)==i)] = c\n",
    "    if label_branch:\n",
    "        for i in range(1, label.max()+1):\n",
    "            y, x = np.where(label==i)\n",
    "            if len(y):\n",
    "                y = int(np.mean(y)+10)\n",
    "                x = int(np.mean(x)+10)\n",
    "                color = colors[i%len(colors)]\n",
    "                raw_display = cv2.putText(raw_display, str(i-1), (x, y), cv2.FONT_HERSHEY_PLAIN, .6, color)\n",
    "            else:\n",
    "                print(f'Branch {i-1} was not found')\n",
    "            \n",
    "    if jonctions is not None:\n",
    "        jy, jx = np.round(jonctions).astype(np.int64)\n",
    "        raw_display[jy, jx] = [1,1,1]\n",
    "        if label_jonctions:\n",
    "            for i, (y,x) in enumerate(zip(jy, jx)):\n",
    "                raw_display = cv2.putText(raw_display, f\":{i}\", (x+3, y+3), cv2.FONT_HERSHEY_PLAIN, .6, (.6, .6, .6)) \n",
    "    viewer.image = raw_display.transpose((2,0,1))\n",
    "viewer"
   ]
  },
  {
   "cell_type": "code",
   "execution_count": 12,
   "id": "124c6255-ed56-4552-b84b-dcfd2b50b5e0",
   "metadata": {
    "tags": []
   },
   "outputs": [],
   "source": [
    "skel = seg2graph.skeletonize(vessels)\n",
    "display(skel)"
   ]
  },
  {
   "cell_type": "code",
   "execution_count": 15,
   "id": "3739beb1-46d3-4a85-a85e-6f1d6965d20c",
   "metadata": {
    "tags": []
   },
   "outputs": [],
   "source": [
    "seg2graph = RetinalVesselSeg2Graph(raw.shape[0]//80)\n",
    "#seg2graph.max_spurs_distance = 0\n",
    "# seg2graph.nodes_merge_distance = {'termination': 0, 'junction': 0, 'node': 0}\n",
    "# seg2graph.merge_small_cycles = 0\n",
    "seg2graph.simplify_topology = None\n",
    "conn, branch_labels, node_yx = seg2graph.seg2adjacency(vessels, return_label=True)\n",
    "display_label(branch_labels, node_yx)"
   ]
  },
  {
   "cell_type": "code",
   "execution_count": 9,
   "id": "2e485e9e-acc4-4d56-a58c-73c6347ba43e",
   "metadata": {},
   "outputs": [
    {
     "name": "stdout",
     "output_type": "stream",
     "text": [
      "Empty nodes: []\n",
      "Irregular branches: []\n"
     ]
    }
   ],
   "source": [
    "print(f'Empty nodes: {[i for i, n in enumerate(conn.T) if n.sum()==0]}')\n",
    "print(f'Irregular branches: {[i for i, b in enumerate(conn) if b.sum()!=2]}')\n",
    "if len(node_yx[0]) != conn.shape[1]:\n",
    "    print(f\"Invalid number of nodes coordindates: {len(node_yx[0])} instead of {conn.shape[1]}.\")\n",
    "if np.max(branch_labels) != conn.shape[0]:\n",
    "    print(f\"Invalid number of branch labels: {np.max(branch_labels)} instead of {conn.shape[0]}.\")"
   ]
  },
  {
   "cell_type": "code",
   "execution_count": null,
   "id": "bb18595b-8d2f-4c6e-ae5f-cf1af5695df9",
   "metadata": {
    "tags": []
   },
   "outputs": [],
   "source": [
    "graph = branches_by_nodes_to_node_graph(conn, node_yx)\n",
    "edges = {}\n",
    "branches = set()\n",
    "for edge in graph.edges():\n",
    "    e = graph.edges[edge]\n",
    "    edges[f\"Branch {e['branch']:03}\"] = f\"n{edge[0]}-{edge[1]}\"\n",
    "    branches |= {e['branch']}\n",
    "    \n",
    "for b in sorted(edges.keys()):\n",
    "      print(b, edges[b])"
   ]
  },
  {
   "cell_type": "code",
   "execution_count": null,
   "id": "2aad2ab3-b68c-4a16-b2fd-67850317995f",
   "metadata": {},
   "outputs": [],
   "source": [
    "for i, b in enumerate(conn.T):\n",
    "    print(f'Node {i} ({node_yx[0][i]:.0f}, {node_yx[1][i]:.0f}): ', np.where(b)[0])"
   ]
  },
  {
   "cell_type": "code",
   "execution_count": null,
   "id": "81bac7a7-20e6-4a00-908f-2e814849eb2c",
   "metadata": {
    "tags": []
   },
   "outputs": [],
   "source": [
    "for i, b in enumerate(conn):\n",
    "    print(f'Branch {i}: ', np.where(b)[0])"
   ]
  },
  {
   "cell_type": "code",
   "execution_count": null,
   "id": "7fe828bc-9f1a-4f75-8318-f2ac484e933d",
   "metadata": {
    "tags": []
   },
   "outputs": [],
   "source": [
    "conn.sum(axis=1).astype(int)"
   ]
  },
  {
   "cell_type": "code",
   "execution_count": null,
   "id": "edba6f14-5b23-4b03-ab4f-0e24ffe46147",
   "metadata": {
    "tags": []
   },
   "outputs": [],
   "source": [
    "np.sum(conn.sum(axis=1)>2)"
   ]
  },
  {
   "cell_type": "code",
   "execution_count": null,
   "id": "44f7a367-0614-44d5-97d6-e46199937475",
   "metadata": {
    "tags": []
   },
   "outputs": [],
   "source": [
    "conn.sum(axis=1).shape"
   ]
  }
 ],
 "metadata": {
  "kernelspec": {
   "display_name": "Python 3 (ipykernel)",
   "language": "python",
   "name": "python3"
  },
  "language_info": {
   "codemirror_mode": {
    "name": "ipython",
    "version": 3
   },
   "file_extension": ".py",
   "mimetype": "text/x-python",
   "name": "python",
   "nbconvert_exporter": "python",
   "pygments_lexer": "ipython3",
   "version": "3.10.6"
  }
 },
 "nbformat": 4,
 "nbformat_minor": 5
}
