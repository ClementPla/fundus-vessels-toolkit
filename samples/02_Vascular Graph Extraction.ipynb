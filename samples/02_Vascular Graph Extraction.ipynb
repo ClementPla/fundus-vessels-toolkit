{
 "cells": [
  {
   "cell_type": "markdown",
   "id": "82243561-fe7b-47c5-a986-0e91732a452f",
   "metadata": {},
   "source": [
    "<p style='\n",
    "  color: #3b4045; \n",
    "  text-align: center;\n",
    "  font-weight: bold;\n",
    "  font-family: -apple-system,BlinkMacSystemFont, \"Segoe UI Adjusted\",\"Segoe UI\",\"Liberation Sans\",sans-serif;     font-size: 2.07692308rem; '> \n",
    "    Vascular Graph Extraction\n",
    "</p>"
   ]
  },
  {
   "cell_type": "code",
   "execution_count": null,
   "id": "11004821-2c28-4b41-9247-e3889e8dc970",
   "metadata": {},
   "outputs": [],
   "source": [
    "from fundus_vessels_toolkit.seg2graph import RetinalVesselSeg2Graph"
   ]
  },
  {
   "cell_type": "code",
   "execution_count": null,
   "id": "17b99ba6-f60b-453c-b631-19e4c0c88739",
   "metadata": {},
   "outputs": [],
   "source": [
    "# Path to the raw fundus image\n",
    "RAW_PATH = \"__Path/to/a/raw/image.jpg__\"\n",
    "\n",
    "# Path to a vessel ground truth (for comparison purposes)\n",
    "VESSELS_PATH = \"__Path/to/a/vessels/segmentation.png__\""
   ]
  },
  {
   "cell_type": "markdown",
   "id": "f6ca5d55-4e9a-4765-8c81-c8f5c35e2d79",
   "metadata": {
    "jp-MarkdownHeadingCollapsed": true,
    "tags": []
   },
   "source": [
    "### Load the raw Image and the Vascular Segmentation"
   ]
  },
  {
   "cell_type": "code",
   "execution_count": null,
   "id": "cbf1bc26-3c97-4bbf-afb1-0ed8447d7d66",
   "metadata": {},
   "outputs": [],
   "source": [
    "import cv2\n",
    "\n",
    "def load_img(path, binarize=False):\n",
    "    img = cv2.imread(path)\n",
    "    img = img.astype(float)/255\n",
    "    return img.mean(axis=2)>.5 if binarize else img\n"
   ]
  },
  {
   "cell_type": "markdown",
   "id": "59dc54da-7b9a-42ea-b478-8a025a0828e6",
   "metadata": {},
   "source": [
    "Load image and segmentation mask"
   ]
  },
  {
   "cell_type": "code",
   "execution_count": null,
   "id": "c28d1c89-98c3-470f-be43-8be9c6897fab",
   "metadata": {},
   "outputs": [],
   "source": [
    "raw = load_img(RAW_PATH)\n",
    "true_vessels = load_img(VESSELS_PATH, binarize=True)"
   ]
  },
  {
   "cell_type": "markdown",
   "id": "4f9f89ce-027f-4a2a-828f-509a79783f15",
   "metadata": {},
   "source": [
    "Perform segmentation using a pretrained model"
   ]
  },
  {
   "cell_type": "code",
   "execution_count": null,
   "id": "bda3a5cb-01ca-427e-88fe-c5493144fa82",
   "metadata": {},
   "outputs": [],
   "source": [
    "from fundus_vessels_toolkit.models import segment\n",
    "vessels = segment(raw)"
   ]
  },
  {
   "cell_type": "markdown",
   "id": "265d5e21-aa88-487f-8dd9-8bbef100d915",
   "metadata": {},
   "source": [
    "---"
   ]
  },
  {
   "cell_type": "markdown",
   "id": "3c054972-945d-4cff-a368-0f846c4832cd",
   "metadata": {
    "tags": []
   },
   "source": [
    "### Skeletonize and Extract Graph"
   ]
  },
  {
   "cell_type": "markdown",
   "id": "d68e0d8a-7721-475d-9fc6-561205a5d1d6",
   "metadata": {},
   "source": [
    "All the skeletonization and graph extraction pipeline is accessible through `RetinalVesselSeg2Graph` objects.\n",
    "\n",
    "This object tunes all the parameters of the pipeline according to a single parameter: the maximum vessel diameter. \n",
    "Apriori, a good approximation is a 80th of the image width (13px for a 1024x1024 px image)."
   ]
  },
  {
   "cell_type": "code",
   "execution_count": null,
   "id": "b3e829d6-fdc7-4071-a1a2-ebe8d42483fd",
   "metadata": {},
   "outputs": [],
   "source": [
    "max_vessel_diameter = raw.shape[1]//80\n",
    "seg2graph = RetinalVesselSeg2Graph(max_vessel_diameter)"
   ]
  },
  {
   "cell_type": "markdown",
   "id": "c45688cd-accd-46ce-8c87-990b17941376",
   "metadata": {},
   "source": [
    "To compute the graph extraction you simply need to call the object with a segmentation map:"
   ]
  },
  {
   "cell_type": "code",
   "execution_count": null,
   "id": "9ca14866-c4c6-4012-b566-1a784a94f8b0",
   "metadata": {},
   "outputs": [],
   "source": [
    "vgraph = seg2graph(vessels)\n",
    "true_vgraph = seg2graph(true_vessels)"
   ]
  },
  {
   "cell_type": "markdown",
   "id": "0fe74ea2-e5c9-4049-ac1d-5f1e2c8bdd42",
   "metadata": {},
   "source": [
    "The returned object is a `VascularGraph` which expose all the properties of the extracted graph.\n",
    " - Boolean matrix encoding the connection between branches (rows) and nodes (columns): `vgrapp.branch_by_node`\n",
    " - The y and x position of the nodes: `vgraph.nodes_yx_coord`\n",
    " - The label map of branches: `vgraph.branch_labels_map`\n",
    "\n",
    "This object is also usefull to cast the graph to other representation. For example:\n",
    " - Node Adjacency Matrix: `vgraph.node_adjacency_matrix()`\n",
    " - Branch Adjacency Matrix: `vgraph.branch_adjacency_matrix()`"
   ]
  },
  {
   "cell_type": "markdown",
   "id": "8928c569-f687-4f1b-bee5-4bb7fd8b9cb0",
   "metadata": {
    "tags": []
   },
   "source": [
    "#### Display"
   ]
  },
  {
   "cell_type": "markdown",
   "id": "353258c7-5528-4f27-95b9-a94e4aac3f24",
   "metadata": {},
   "source": [
    "Lets compare the graph extracted on the predicted segmentation and on the ground truth segmentation side by side!\n",
    "\n",
    "_(The prediction is on the left, the ground truth on the right.)_"
   ]
  },
  {
   "cell_type": "code",
   "execution_count": null,
   "id": "1cca0eb9-49f7-44ef-904f-ab18a908396b",
   "metadata": {
    "jupyter": {
     "source_hidden": true
    },
    "tags": []
   },
   "outputs": [],
   "source": [
    "import numpy as np\n",
    "from jppype.view2d import imshow, View2D, sync_views\n",
    "from ipywidgets import GridspecLayout\n",
    "\n",
    "def create_view(vessels, vgraph):\n",
    "    v = imshow(raw)\n",
    "    v.add_label(vessels, 'vessel', 'white', options={'opacity': .2})\n",
    "    v['vessel graph'] = vgraph.jppype_layer(edge_map=True)\n",
    "    \n",
    "    return v\n",
    "    \n",
    "\n",
    "grid = GridspecLayout(1,2, height='650px')\n",
    "grid[0,0] = create_view(vessels, vgraph)\n",
    "grid[0,1] = create_view(true_vessels, true_vgraph)\n",
    "sync_views(grid[0,0], grid[0,1])\n",
    "\n",
    "grid"
   ]
  },
  {
   "cell_type": "markdown",
   "id": "7a1abeb3-d5e4-4528-95e8-1f15cedc7a59",
   "metadata": {},
   "source": [
    "---"
   ]
  },
  {
   "cell_type": "markdown",
   "id": "0b000c2a-8c85-429c-a52f-95dadcb00a67",
   "metadata": {
    "tags": []
   },
   "source": [
    "### Performing only the skeletonization"
   ]
  },
  {
   "cell_type": "markdown",
   "id": "c17ae2f5-368c-40de-bc01-7aa374b317db",
   "metadata": {},
   "source": [
    "The method `RetinalVesselSeg2Graph.seg2adjacency()` actually perform the graph extraction in two steps:\n",
    " - The skeletonization (morphological reduction of the segmentation to the vessels centerline): `seg2graph.skeletonize(vessel_segmentation_map)`\n",
    " - The graph extraction (identification of branches and nodes in the vascular skeleton and connection parsing): `seg2graph.skel2adjacency(vessel_skeleton_map)`.\n",
    " \n",
    " Those method can be called individually, for example to get the result of the skeletonization step only."
   ]
  },
  {
   "cell_type": "code",
   "execution_count": null,
   "id": "ea253174-cbea-4ce6-a614-b0e875fbcad5",
   "metadata": {},
   "outputs": [],
   "source": [
    "skeleton = seg2graph.skeletonize(vessels)"
   ]
  },
  {
   "cell_type": "markdown",
   "id": "0bc478eb-51d7-4638-9cc1-1fe20401404f",
   "metadata": {},
   "source": [
    "You may notice some difference between the skeleton obtained through `seg2graph.skeletonize(vessels)` and by direct call of `seg2graph(vessels)`, because several topological simplification is performed on the latter (merging close nodes, removing small spurs or cycles...)."
   ]
  },
  {
   "cell_type": "code",
   "execution_count": null,
   "id": "f0cd5e07-378a-442c-aab3-33eed70b745c",
   "metadata": {},
   "outputs": [],
   "source": [
    "v = imshow(raw)\n",
    "v.add_label(vessels, 'vessel', 'white', options={'opacity': 0.2})\n",
    "v.add_label(skeleton, 'skeleton', {2:'white', 1: 'yellow', 3: 'red', 4: 'purple'})\n",
    "v"
   ]
  },
  {
   "cell_type": "markdown",
   "id": "eddca4a2-3d38-4a87-b79b-dd425e858d45",
   "metadata": {},
   "source": [
    "<br />\n",
    "<hr style=\"width:20%;text-align:center;\"/>\n",
    "\n",
    "Calling `seg2graph.seg2adjacency(vessel_map)` will return the adjacency matrix `adj` which store the graph links between branches (rows) and nodes (columns).\n",
    "\n",
    "If  `return_label=True` this method also returns:\n",
    " - the label map of branches where the value of each pixel correspond to its branch id **+ 1** (or 0 if the pixel is not part of the skeleton);  \n",
    " - the coordinates of each nodes as a tuple (y, x) where y and x are vectors of length `adj.shape[1]`."
   ]
  },
  {
   "cell_type": "code",
   "execution_count": null,
   "id": "f04f0585-803c-4685-93c9-e163f5152127",
   "metadata": {},
   "outputs": [],
   "source": [
    "adj, branch_labels, node_yx = seg2graph.seg2adjacency(vessels, return_label=True)"
   ]
  },
  {
   "cell_type": "code",
   "execution_count": null,
   "id": "b4ee82f7-b5f0-4780-94a0-c86b95a76fe5",
   "metadata": {},
   "outputs": [],
   "source": [
    "v = imshow(raw)\n",
    "v.add_label(branch_labels)\n",
    "v"
   ]
  }
 ],
 "metadata": {
  "kernelspec": {
   "display_name": "Python 3 (ipykernel)",
   "language": "python",
   "name": "python3"
  },
  "language_info": {
   "codemirror_mode": {
    "name": "ipython",
    "version": 3
   },
   "file_extension": ".py",
   "mimetype": "text/x-python",
   "name": "python",
   "nbconvert_exporter": "python",
   "pygments_lexer": "ipython3",
   "version": "3.10.11"
  }
 },
 "nbformat": 4,
 "nbformat_minor": 5
}
